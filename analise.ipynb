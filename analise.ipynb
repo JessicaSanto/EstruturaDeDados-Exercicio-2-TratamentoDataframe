{
 "cells": [
  {
   "cell_type": "code",
   "execution_count": null,
   "id": "0eaf05ad",
   "metadata": {},
   "outputs": [],
   "source": [
    "import pandas as pd\n",
    "import matplotlib.pyplot as plt\n",
    "import seaborn as sns\n",
    "df = pd.read_excel('dados_tratados.xlsx')"
   ]
  },
  {
   "cell_type": "code",
   "execution_count": null,
   "id": "8339178b",
   "metadata": {},
   "outputs": [],
   "source": [
    "# Exercício 4 – Análise Descritiva Avançada\n",
    "# a) Qual o número total de evasões por departamento?\n",
    "evasoes_por_departamento = df[df['Evadiu'] == 'Sim'].groupby('Departamento').size()\n",
    "print(evasoes_por_departamento)"
   ]
  },
  {
   "cell_type": "code",
   "execution_count": null,
   "id": "fe969d93",
   "metadata": {},
   "outputs": [],
   "source": [
    "# b) Qual é o percentual de evasão considerando apenas os que participaram do turno da tarde?\n",
    "evasoes_tarde = df[df['Turno'] == 'Tarde']\n",
    "percentual_evasao_tarde = (evasoes_tarde['Evadiu'] == 'Sim').mean() * 100\n",
    "print(percentual_evasao_tarde)"
   ]
  },
  {
   "cell_type": "code",
   "execution_count": null,
   "id": "2801c56c",
   "metadata": {},
   "outputs": [],
   "source": [
    "# c) Qual é o desvio padrão de faltas por turno?\n",
    "desvio_por_turno = df.groupby('Turno')['Faltas'].std()\n",
    "print(desvio_por_turno)"
   ]
  },
  {
   "cell_type": "code",
   "execution_count": null,
   "id": "39793604",
   "metadata": {},
   "outputs": [],
   "source": [
    "# Exercício 5 – Análise Temporal\n",
    "# a) Em qual mês ocorreu o maior número de faltas?\n",
    "df['Mes_Ultima_Falta'] = df['Data_Ultima_Falta'].dt.month_name()\n",
    "faltas_por_mes = df.groupby('Mes_Ultima_Falta')['Faltas'].sum().sort_values(ascending=False)"
   ]
  },
  {
   "cell_type": "code",
   "execution_count": null,
   "id": "ae811c38",
   "metadata": {},
   "outputs": [],
   "source": [
    "# b) Crie uma coluna Semana_Ultima_Falta e descubra qual semana teve maior concentração de ausências.\n",
    "df['Semana_Ultima_Falta'] = df['Data_Ultima_Falta'].dt.isocalendar().week\n",
    "semana_com_mais_faltas = df.groupby('Semana_Ultima_Falta')['Faltas'].sum().sort_values(ascending=False)"
   ]
  },
  {
   "cell_type": "code",
   "execution_count": null,
   "id": "cbab6890",
   "metadata": {},
   "outputs": [],
   "source": [
    "# c) Faça uma análise cruzando dia da semana e quantidade de evasões.\n",
    "evasoes_por_dia = df[df['Evadiu'] == 'Sim'].groupby('Dia_da_Semana_Ultima_Falta').size().sort_values(ascending=False)"
   ]
  },
  {
   "cell_type": "code",
   "execution_count": null,
   "id": "1643ce46",
   "metadata": {},
   "outputs": [],
   "source": [
    "# Exercício 6 – Análise de Risco\n",
    "# a) Crie a coluna Risco_Evasao com três categorias: \"Alto\", \"Moderado\", \"Baixo\".\n",
    "def risco(row):\n",
    "    if row['Faltas'] >= 6:\n",
    "        return 'Alto'\n",
    "    elif row['Faltas'] >= 3:\n",
    "        return 'Moderado'\n",
    "    else:\n",
    "        return 'Baixo'\n",
    "\n",
    "df['Risco_Evasao'] = df.apply(risco, axis=1)"
   ]
  },
  {
   "cell_type": "code",
   "execution_count": null,
   "id": "3d4024ae",
   "metadata": {},
   "outputs": [],
   "source": [
    "# b) Gere uma tabela com a distribuição percentual de risco por departamento.\n",
    "distribuicao_risco = pd.crosstab(df['Departamento'], df['Risco_Evasao'], normalize='index') * 100"
   ]
  },
  {
   "cell_type": "code",
   "execution_count": null,
   "id": "1f4e45d9",
   "metadata": {},
   "outputs": [],
   "source": [
    "# c) Há relação entre risco alto e turno da tarde?\n",
    "risco_turno = pd.crosstab(df['Risco_Evasao'], df['Turno'], normalize='columns') * 100"
   ]
  },
  {
   "cell_type": "code",
   "execution_count": null,
   "id": "df130818",
   "metadata": {},
   "outputs": [],
   "source": [
    "# Exercício 7 – Visualizações Estratégicas\n",
    "# a) Gráfico de barras: número de faltas por departamento.\n",
    "df.groupby('Departamento')['Faltas'].sum().sort_values().plot(kind='barh', color='teal')\n",
    "plt.title('Total de Faltas por Departamento')\n",
    "plt.xlabel('Faltas')\n",
    "plt.tight_layout()\n",
    "plt.show()\n"
   ]
  },
  {
   "cell_type": "code",
   "execution_count": null,
   "id": "45e0f177",
   "metadata": {},
   "outputs": [],
   "source": [
    "# b) Gráfico de pizza: distribuição de risco de evasão.\n",
    "df['Risco_Evasao'].value_counts().plot.pie(autopct='%1.1f%%', colors=['lightcoral', 'gold', 'lightgreen'])\n",
    "plt.title('Distribuição de Risco de Evasão')\n",
    "plt.ylabel('')\n",
    "plt.tight_layout()\n",
    "plt.show()"
   ]
  },
  {
   "cell_type": "code",
   "execution_count": null,
   "id": "2f971dfa",
   "metadata": {},
   "outputs": [],
   "source": [
    "# c) Heatmap cruzando Turno e Risco_Evasao.\n",
    "heatmap_data = pd.crosstab(df['Turno'], df['Risco_Evasao'])\n",
    "sns.heatmap(heatmap_data, annot=True, cmap='YlGnBu', fmt='d')\n",
    "plt.title('Risco vs Turno')\n",
    "plt.tight_layout()\n",
    "plt.show()"
   ]
  }
 ],
 "metadata": {
  "kernelspec": {
   "display_name": "Python 3",
   "language": "python",
   "name": "python3"
  },
  "language_info": {
   "codemirror_mode": {
    "name": "ipython",
    "version": 3
   },
   "file_extension": ".py",
   "mimetype": "text/x-python",
   "name": "python",
   "nbconvert_exporter": "python",
   "pygments_lexer": "ipython3",
   "version": "3.12.4"
  }
 },
 "nbformat": 4,
 "nbformat_minor": 5
}
