{
 "cells": [
  {
   "cell_type": "code",
   "execution_count": 7,
   "id": "91c4b0c1",
   "metadata": {},
   "outputs": [
    {
     "name": "stdout",
     "output_type": "stream",
     "text": [
      "Arquivo com dados sujos gerado!\n"
     ]
    }
   ],
   "source": [
    "import pandas as pd\n",
    "import numpy as np\n",
    "from datetime import datetime, timedelta\n",
    "import random\n",
    "\n",
    "# Configurações\n",
    "departamentos = ['Financeiro', 'TI', 'RH', 'Marketing', 'Vendas', 'Operações']\n",
    "turnos = ['Manhã', 'Tarde', 'manha', 'TARDE']  # Inconsistência proposital\n",
    "dias_da_semana = ['Segunda', 'Terça', 'Quarta', 'Quinta', 'Sexta', 'segunda']  # Repetição inconsistente\n",
    "\n",
    "np.random.seed(42)\n",
    "random.seed(42)\n",
    "\n",
    "dados = []\n",
    "for i in range(1, 220):  # 219 registros (alguns duplicados propositalmente)\n",
    "    nome = f'Colaborador_{i:03d}'\n",
    "    departamento = random.choice(departamentos)\n",
    "    turno = random.choice(turnos)\n",
    "    \n",
    "    # Faltas com alguns outliers\n",
    "    faltas = np.random.poisson(lam=2)\n",
    "    if random.random() < 0.05:\n",
    "        faltas += 10  # 5% com outliers absurdos\n",
    "\n",
    "    dia = random.choice(dias_da_semana)\n",
    "\n",
    "    # Datas com valores inválidos em 5% dos casos\n",
    "    if random.random() < 0.05:\n",
    "        data_ultima_falta = '31/02/2024'  # Data inválida\n",
    "    else:\n",
    "        data_ultima_falta = (datetime(2024, 1, 1) + timedelta(days=random.randint(0, 90))).strftime('%d/%m/%Y')\n",
    "\n",
    "    # Evadiu com alguns nulos\n",
    "    evadiu = None if random.random() < 0.05 else ('Sim' if faltas > 4 else 'Não')\n",
    "\n",
    "    dados.append({\n",
    "        'Nome': nome,\n",
    "        'Departamento': departamento,\n",
    "        'Turno': turno,\n",
    "        'Faltas': faltas,\n",
    "        'Dia_da_Semana_Ultima_Falta': dia,\n",
    "        'Data_Ultima_Falta': data_ultima_falta,\n",
    "        'Evadiu': evadiu\n",
    "    })\n",
    "\n",
    "# Adicionando duplicatas\n",
    "df = pd.DataFrame(dados)\n",
    "df = pd.concat([df, df.sample(5)])  # 5 duplicatas\n",
    "\n",
    "df.to_excel('faltas_treinamento_sujo.xlsx', index=False)\n",
    "print(\"Arquivo com dados sujos gerado!\")\n"
   ]
  }
 ],
 "metadata": {
  "kernelspec": {
   "display_name": "Python 3",
   "language": "python",
   "name": "python3"
  },
  "language_info": {
   "codemirror_mode": {
    "name": "ipython",
    "version": 3
   },
   "file_extension": ".py",
   "mimetype": "text/x-python",
   "name": "python",
   "nbconvert_exporter": "python",
   "pygments_lexer": "ipython3",
   "version": "3.12.4"
  }
 },
 "nbformat": 4,
 "nbformat_minor": 5
}
