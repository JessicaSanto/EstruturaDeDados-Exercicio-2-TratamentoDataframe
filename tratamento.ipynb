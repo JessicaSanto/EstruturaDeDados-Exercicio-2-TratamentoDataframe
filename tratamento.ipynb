{
 "cells": [
  {
   "cell_type": "code",
   "execution_count": 26,
   "id": "3a6f0236",
   "metadata": {},
   "outputs": [],
   "source": [
    "import pandas as pd\n",
    "import numpy as np\n",
    "df = pd.read_excel('faltas_treinamento_sujo.xlsx')"
   ]
  },
  {
   "cell_type": "code",
   "execution_count": 27,
   "id": "a0f2de16",
   "metadata": {},
   "outputs": [
    {
     "name": "stdout",
     "output_type": "stream",
     "text": [
      "Nome                           0\n",
      "Departamento                   0\n",
      "Turno                          0\n",
      "Faltas                         0\n",
      "Dia_da_Semana_Ultima_Falta     0\n",
      "Data_Ultima_Falta              0\n",
      "Evadiu                        14\n",
      "dtype: int64\n",
      "Nome                          object\n",
      "Departamento                  object\n",
      "Turno                         object\n",
      "Faltas                         int64\n",
      "Dia_da_Semana_Ultima_Falta    object\n",
      "Data_Ultima_Falta             object\n",
      "Evadiu                        object\n",
      "dtype: object\n"
     ]
    }
   ],
   "source": [
    "# Exercício 1 – Higienização Básica\n",
    "# a) Verifique valores nulos e tipos incorretos.\n",
    "print(df.isnull().sum())\n",
    "print(df.dtypes)"
   ]
  },
  {
   "cell_type": "code",
   "execution_count": 28,
   "id": "dd8076ef",
   "metadata": {},
   "outputs": [],
   "source": [
    "# b) Corrija a coluna de datas inválidas.\n",
    "df['Data_Ultima_Falta'] = pd.to_datetime(df['Data_Ultima_Falta'], dayfirst=True, errors='coerce')\n"
   ]
  },
  {
   "cell_type": "code",
   "execution_count": 29,
   "id": "ace2b75c",
   "metadata": {},
   "outputs": [],
   "source": [
    "# c) Normalize os nomes dos turnos e dias da semana.\n",
    "df['Turno'] = df['Turno'].str.capitalize().str.strip()\n",
    "df['Dia_da_Semana_Ultima_Falta'] = df['Dia_da_Semana_Ultima_Falta'].str.capitalize().str.strip()\n"
   ]
  },
  {
   "cell_type": "code",
   "execution_count": 30,
   "id": "c0e04fa6",
   "metadata": {},
   "outputs": [],
   "source": [
    "# Exercício 2 – Remoção e Substituição\n",
    "# a) Remova os registros duplicados.\n",
    "df.drop_duplicates(inplace=True)"
   ]
  },
  {
   "cell_type": "code",
   "execution_count": 31,
   "id": "058ac581",
   "metadata": {},
   "outputs": [],
   "source": [
    "# b) Substitua os valores nulos da coluna Evadiu por “Desconhecido”.\n",
    "df['Evadiu'] = df['Evadiu'].fillna('Desconhecido')"
   ]
  },
  {
   "cell_type": "code",
   "execution_count": 32,
   "id": "9611727e",
   "metadata": {},
   "outputs": [],
   "source": [
    "# c) Substitua os valores nulos da coluna Data_Ultima_Falta pela data mais comum.\n",
    "data_mais_comum = df['Data_Ultima_Falta'].mode()[0]\n",
    "df['Data_Ultima_Falta'] = df['Data_Ultima_Falta'].fillna(data_mais_comum)"
   ]
  },
  {
   "cell_type": "code",
   "execution_count": 33,
   "id": "df87a5df",
   "metadata": {},
   "outputs": [],
   "source": [
    "# Exercício 3 – Correções e Detecção de Outliers\n",
    "# a) Converta a coluna Faltas para tipo inteiro.\n",
    "df['Faltas'] = pd.to_numeric(df['Faltas'], errors='coerce').fillna(0).astype(int)"
   ]
  },
  {
   "cell_type": "code",
   "execution_count": 34,
   "id": "5f1cad94",
   "metadata": {},
   "outputs": [],
   "source": [
    "# b) Substitua outliers de faltas por np.nan e depois pela mediana.\n",
    "q1 = df['Faltas'].quantile(0.25)\n",
    "q3 = df['Faltas'].quantile(0.75)\n",
    "iqr = q3 - q1\n",
    "limite_superior = q3 + 1.5 * iqr"
   ]
  },
  {
   "cell_type": "code",
   "execution_count": 35,
   "id": "fbfe7600",
   "metadata": {},
   "outputs": [],
   "source": [
    "# c) Crie um flag “Faltas_Suspeitas” para valores > 10.\n",
    "df['Faltas_Suspeitas'] = df['Faltas'] > 10\n",
    "df.loc[df['Faltas'] > limite_superior, 'Faltas'] = np.nan\n",
    "df['Faltas'] = df['Faltas'].fillna(df['Faltas'].median())"
   ]
  },
  {
   "cell_type": "code",
   "execution_count": 36,
   "id": "d89d6746",
   "metadata": {},
   "outputs": [
    {
     "name": "stdout",
     "output_type": "stream",
     "text": [
      "Arquivo Excel limpo salvo como 'faltas_tratado_para_analise.xlsx'. Pronto para análise!\n"
     ]
    }
   ],
   "source": [
    "# Supondo que 'df' já foi tratado conforme os exercícios anteriores\n",
    "# Se ainda estiver com dados sujos, aplique os tratamentos primeiro.\n",
    "\n",
    "# Exportar para Excel limpo\n",
    "df_limpinho = df.copy()\n",
    "\n",
    "# Ordenar por departamento e nome (opcional, para facilitar visualização)\n",
    "df_limpinho.sort_values(by=['Departamento', 'Nome'], inplace=True)\n",
    "\n",
    "# Salvar o arquivo Excel limpo\n",
    "df_limpinho.to_excel('faltas_tratado_para_analise.xlsx', index=False)\n",
    "\n",
    "print(\"Arquivo Excel limpo salvo como 'faltas_tratado_para_analise.xlsx'. Pronto para análise!\")\n"
   ]
  }
 ],
 "metadata": {
  "kernelspec": {
   "display_name": "Python 3",
   "language": "python",
   "name": "python3"
  },
  "language_info": {
   "codemirror_mode": {
    "name": "ipython",
    "version": 3
   },
   "file_extension": ".py",
   "mimetype": "text/x-python",
   "name": "python",
   "nbconvert_exporter": "python",
   "pygments_lexer": "ipython3",
   "version": "3.12.4"
  }
 },
 "nbformat": 4,
 "nbformat_minor": 5
}
